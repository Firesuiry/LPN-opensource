{
 "cells": [
  {
   "cell_type": "code",
   "execution_count": null,
   "id": "426576b4",
   "metadata": {},
   "outputs": [],
   "source": []
  },
  {
   "cell_type": "code",
   "execution_count": 3,
   "id": "8818c7a6",
   "metadata": {},
   "outputs": [],
   "source": [
    "import time\n",
    "import numpy as np\n",
    "import math\n",
    "\n",
    "\n",
    "def CmbinationNumber(n, m):\n",
    "    a = math.factorial(n) / (math.factorial(n - m) * math.factorial(m))\n",
    "    return a\n",
    "\n",
    "import numpy as np"
   ]
  },
  {
   "cell_type": "code",
   "execution_count": 8,
   "id": "cab7f5b8",
   "metadata": {},
   "outputs": [
    {
     "name": "stdout",
     "output_type": "stream",
     "text": [
      "dim:30 row:13977155\n",
      "dim:31 row:22781370\n",
      "dim:32 row:37379493\n",
      "dim:33 row:61716305\n",
      "dim:34 row:102498091\n",
      "dim:35 row:39349904\n",
      "dim:36 row:63989524\n",
      "dim:37 row:104670159\n",
      "dim:38 row:172165921\n",
      "dim:39 row:284678122\n",
      "dim:40 row:109790074\n",
      "dim:41 row:178219085\n",
      "dim:42 row:290819772\n",
      "dim:43 row:476938156\n",
      "dim:44 row:785897890\n"
     ]
    }
   ],
   "source": [
    "row = 10000\n",
    "prob_1_max = 0.2\n",
    "for i in range(30,45,1):\n",
    "    dim = i\n",
    "    distribution = []\n",
    "    for i in range(int(prob_1_max * dim) + 1):\n",
    "        distribution.append(CmbinationNumber(dim, i))\n",
    "    distribution_sum = np.sum(distribution)\n",
    "    need_real_row = row/distribution_sum*2**dim\n",
    "    print(f'dim:{dim} row:{int(need_real_row)}')"
   ]
  },
  {
   "cell_type": "code",
   "execution_count": null,
   "id": "1c75c7ca",
   "metadata": {},
   "outputs": [],
   "source": []
  }
 ],
 "metadata": {
  "kernelspec": {
   "display_name": "Python 3 (ipykernel)",
   "language": "python",
   "name": "python3"
  },
  "language_info": {
   "codemirror_mode": {
    "name": "ipython",
    "version": 3
   },
   "file_extension": ".py",
   "mimetype": "text/x-python",
   "name": "python",
   "nbconvert_exporter": "python",
   "pygments_lexer": "ipython3",
   "version": "3.7.9"
  }
 },
 "nbformat": 4,
 "nbformat_minor": 5
}
